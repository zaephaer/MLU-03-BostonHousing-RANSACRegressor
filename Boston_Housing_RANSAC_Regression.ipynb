{
  "nbformat": 4,
  "nbformat_minor": 0,
  "metadata": {
    "colab": {
      "name": "Boston Housing - RANSAC Regression.ipynb",
      "provenance": [],
      "collapsed_sections": [],
      "authorship_tag": "ABX9TyPF6VEbEbT7MlTeGORQdJto",
      "include_colab_link": true
    },
    "kernelspec": {
      "name": "python3",
      "display_name": "Python 3"
    },
    "language_info": {
      "name": "python"
    }
  },
  "cells": [
    {
      "cell_type": "markdown",
      "metadata": {
        "id": "view-in-github",
        "colab_type": "text"
      },
      "source": [
        "<a href=\"https://colab.research.google.com/github/zaephaer/MLU-03-BostonHousing-RANSACRegressor/blob/main/Boston_Housing_RANSAC_Regression.ipynb\" target=\"_parent\"><img src=\"https://colab.research.google.com/assets/colab-badge.svg\" alt=\"Open In Colab\"/></a>"
      ]
    },
    {
      "cell_type": "code",
      "metadata": {
        "colab": {
          "base_uri": "https://localhost:8080/"
        },
        "id": "fjT3Jb9Ysicw",
        "outputId": "611ed619-8e80-4ddd-8777-79a3c6d001d1"
      },
      "source": [
        "import numpy as np\n",
        "import pandas as pd\n",
        "import sklearn\n",
        "import seaborn as sns\n",
        "import matplotlib.pyplot as plt\n",
        "import matplotlib as mpl\n",
        "\n",
        "print(\"Numpy version :\", np.__version__)\n",
        "print(\"Pandas version :\", pd.__version__)\n",
        "import sys\n",
        "print(\"System version :\", sys.version)\n",
        "print(\"Sklearn version :\", sklearn.__version__)\n",
        "print(\"Matplotlib Version :\", mpl. __version__)"
      ],
      "execution_count": 21,
      "outputs": [
        {
          "output_type": "stream",
          "name": "stdout",
          "text": [
            "Numpy version : 1.19.5\n",
            "Pandas version : 1.1.5\n",
            "System version : 3.7.12 (default, Sep 10 2021, 00:21:48) \n",
            "[GCC 7.5.0]\n",
            "Sklearn version : 0.22.2.post1\n",
            "Matplotlib Version : 3.2.2\n"
          ]
        }
      ]
    },
    {
      "cell_type": "markdown",
      "metadata": {
        "id": "YoiYsH-yuXDA"
      },
      "source": [
        "Attribute Information:\n",
        "\n",
        "    1. CRIM      per capita crime rate by town\n",
        "    2. ZN        proportion of residential land zoned for lots over \n",
        "                 25,000 sq.ft.\n",
        "    3. INDUS     proportion of non-retail business acres per town\n",
        "    4. CHAS      Charles River dummy variable (= 1 if tract bounds \n",
        "                 river; 0 otherwise)\n",
        "    5. NOX       nitric oxides concentration (parts per 10 million)\n",
        "    6. RM        average number of rooms per dwelling\n",
        "    7. AGE       proportion of owner-occupied units built prior to 1940\n",
        "    8. DIS       weighted distances to five Boston employment centres\n",
        "    9. RAD       index of accessibility to radial highways\n",
        "    10. TAX      full-value property-tax rate per $10,000\n",
        "    11. PTRATIO  pupil-teacher ratio by town\n",
        "    12. B        1000(Bk - 0.63)^2 where Bk is the proportion of blacks \n",
        "                 by town\n",
        "    13. LSTAT    % lower status of the population\n",
        "    14. MEDV     Median value of owner-occupied homes in $1000's"
      ]
    },
    {
      "cell_type": "code",
      "metadata": {
        "colab": {
          "base_uri": "https://localhost:8080/",
          "height": 206
        },
        "id": "Kx2MI1QMuYMn",
        "outputId": "0d5d7846-c580-43ef-ad40-ff210fc951a9"
      },
      "source": [
        "df = pd.read_csv(\"https://raw.githubusercontent.com/zaephaer/MLU-02-BostonHousing-SimpleLinearRegression/main/boston.csv\")\n",
        "df.head()"
      ],
      "execution_count": 22,
      "outputs": [
        {
          "output_type": "execute_result",
          "data": {
            "text/html": [
              "<div>\n",
              "<style scoped>\n",
              "    .dataframe tbody tr th:only-of-type {\n",
              "        vertical-align: middle;\n",
              "    }\n",
              "\n",
              "    .dataframe tbody tr th {\n",
              "        vertical-align: top;\n",
              "    }\n",
              "\n",
              "    .dataframe thead th {\n",
              "        text-align: right;\n",
              "    }\n",
              "</style>\n",
              "<table border=\"1\" class=\"dataframe\">\n",
              "  <thead>\n",
              "    <tr style=\"text-align: right;\">\n",
              "      <th></th>\n",
              "      <th>CRIM</th>\n",
              "      <th>ZN</th>\n",
              "      <th>INDUS</th>\n",
              "      <th>CHAS</th>\n",
              "      <th>NOX</th>\n",
              "      <th>RM</th>\n",
              "      <th>AGE</th>\n",
              "      <th>DIS</th>\n",
              "      <th>RAD</th>\n",
              "      <th>TAX</th>\n",
              "      <th>PTRATIO</th>\n",
              "      <th>B</th>\n",
              "      <th>LSTAT</th>\n",
              "      <th>MDEV</th>\n",
              "    </tr>\n",
              "  </thead>\n",
              "  <tbody>\n",
              "    <tr>\n",
              "      <th>0</th>\n",
              "      <td>0.006</td>\n",
              "      <td>18.000</td>\n",
              "      <td>2.310</td>\n",
              "      <td>0.000</td>\n",
              "      <td>0.538</td>\n",
              "      <td>6.575</td>\n",
              "      <td>65.200</td>\n",
              "      <td>4.090</td>\n",
              "      <td>1.000</td>\n",
              "      <td>296.000</td>\n",
              "      <td>15.300</td>\n",
              "      <td>396.900</td>\n",
              "      <td>4.980</td>\n",
              "      <td>24.000</td>\n",
              "    </tr>\n",
              "    <tr>\n",
              "      <th>1</th>\n",
              "      <td>0.027</td>\n",
              "      <td>0.000</td>\n",
              "      <td>7.070</td>\n",
              "      <td>0.000</td>\n",
              "      <td>0.469</td>\n",
              "      <td>6.421</td>\n",
              "      <td>78.900</td>\n",
              "      <td>4.967</td>\n",
              "      <td>2.000</td>\n",
              "      <td>242.000</td>\n",
              "      <td>17.800</td>\n",
              "      <td>396.900</td>\n",
              "      <td>9.140</td>\n",
              "      <td>21.600</td>\n",
              "    </tr>\n",
              "    <tr>\n",
              "      <th>2</th>\n",
              "      <td>0.027</td>\n",
              "      <td>0.000</td>\n",
              "      <td>7.070</td>\n",
              "      <td>0.000</td>\n",
              "      <td>0.469</td>\n",
              "      <td>7.185</td>\n",
              "      <td>61.100</td>\n",
              "      <td>4.967</td>\n",
              "      <td>2.000</td>\n",
              "      <td>242.000</td>\n",
              "      <td>17.800</td>\n",
              "      <td>392.830</td>\n",
              "      <td>4.030</td>\n",
              "      <td>34.700</td>\n",
              "    </tr>\n",
              "    <tr>\n",
              "      <th>3</th>\n",
              "      <td>0.032</td>\n",
              "      <td>0.000</td>\n",
              "      <td>2.180</td>\n",
              "      <td>0.000</td>\n",
              "      <td>0.458</td>\n",
              "      <td>6.998</td>\n",
              "      <td>45.800</td>\n",
              "      <td>6.062</td>\n",
              "      <td>3.000</td>\n",
              "      <td>222.000</td>\n",
              "      <td>18.700</td>\n",
              "      <td>394.630</td>\n",
              "      <td>2.940</td>\n",
              "      <td>33.400</td>\n",
              "    </tr>\n",
              "    <tr>\n",
              "      <th>4</th>\n",
              "      <td>0.069</td>\n",
              "      <td>0.000</td>\n",
              "      <td>2.180</td>\n",
              "      <td>0.000</td>\n",
              "      <td>0.458</td>\n",
              "      <td>7.147</td>\n",
              "      <td>54.200</td>\n",
              "      <td>6.062</td>\n",
              "      <td>3.000</td>\n",
              "      <td>222.000</td>\n",
              "      <td>18.700</td>\n",
              "      <td>396.900</td>\n",
              "      <td>5.330</td>\n",
              "      <td>36.200</td>\n",
              "    </tr>\n",
              "  </tbody>\n",
              "</table>\n",
              "</div>"
            ],
            "text/plain": [
              "   CRIM     ZN  INDUS  CHAS   NOX  ...     TAX  PTRATIO       B  LSTAT   MDEV\n",
              "0 0.006 18.000  2.310 0.000 0.538  ... 296.000   15.300 396.900  4.980 24.000\n",
              "1 0.027  0.000  7.070 0.000 0.469  ... 242.000   17.800 396.900  9.140 21.600\n",
              "2 0.027  0.000  7.070 0.000 0.469  ... 242.000   17.800 392.830  4.030 34.700\n",
              "3 0.032  0.000  2.180 0.000 0.458  ... 222.000   18.700 394.630  2.940 33.400\n",
              "4 0.069  0.000  2.180 0.000 0.458  ... 222.000   18.700 396.900  5.330 36.200\n",
              "\n",
              "[5 rows x 14 columns]"
            ]
          },
          "metadata": {},
          "execution_count": 22
        }
      ]
    },
    {
      "cell_type": "markdown",
      "metadata": {
        "id": "fkdCZkrZu-Ba"
      },
      "source": [
        "#Exploratory Data Analysis"
      ]
    },
    {
      "cell_type": "code",
      "metadata": {
        "colab": {
          "base_uri": "https://localhost:8080/",
          "height": 300
        },
        "id": "U_jP2_bsu_1t",
        "outputId": "c5de8841-a30b-4317-bc11-f85e5553f3b3"
      },
      "source": [
        "df.describe()"
      ],
      "execution_count": 23,
      "outputs": [
        {
          "output_type": "execute_result",
          "data": {
            "text/html": [
              "<div>\n",
              "<style scoped>\n",
              "    .dataframe tbody tr th:only-of-type {\n",
              "        vertical-align: middle;\n",
              "    }\n",
              "\n",
              "    .dataframe tbody tr th {\n",
              "        vertical-align: top;\n",
              "    }\n",
              "\n",
              "    .dataframe thead th {\n",
              "        text-align: right;\n",
              "    }\n",
              "</style>\n",
              "<table border=\"1\" class=\"dataframe\">\n",
              "  <thead>\n",
              "    <tr style=\"text-align: right;\">\n",
              "      <th></th>\n",
              "      <th>CRIM</th>\n",
              "      <th>ZN</th>\n",
              "      <th>INDUS</th>\n",
              "      <th>CHAS</th>\n",
              "      <th>NOX</th>\n",
              "      <th>RM</th>\n",
              "      <th>AGE</th>\n",
              "      <th>DIS</th>\n",
              "      <th>RAD</th>\n",
              "      <th>TAX</th>\n",
              "      <th>PTRATIO</th>\n",
              "      <th>B</th>\n",
              "      <th>LSTAT</th>\n",
              "      <th>MDEV</th>\n",
              "    </tr>\n",
              "  </thead>\n",
              "  <tbody>\n",
              "    <tr>\n",
              "      <th>count</th>\n",
              "      <td>506.000</td>\n",
              "      <td>506.000</td>\n",
              "      <td>506.000</td>\n",
              "      <td>506.000</td>\n",
              "      <td>506.000</td>\n",
              "      <td>506.000</td>\n",
              "      <td>506.000</td>\n",
              "      <td>506.000</td>\n",
              "      <td>506.000</td>\n",
              "      <td>506.000</td>\n",
              "      <td>506.000</td>\n",
              "      <td>506.000</td>\n",
              "      <td>506.000</td>\n",
              "      <td>506.000</td>\n",
              "    </tr>\n",
              "    <tr>\n",
              "      <th>mean</th>\n",
              "      <td>3.594</td>\n",
              "      <td>11.364</td>\n",
              "      <td>11.137</td>\n",
              "      <td>0.069</td>\n",
              "      <td>0.555</td>\n",
              "      <td>6.285</td>\n",
              "      <td>68.575</td>\n",
              "      <td>3.795</td>\n",
              "      <td>9.549</td>\n",
              "      <td>408.237</td>\n",
              "      <td>18.456</td>\n",
              "      <td>356.674</td>\n",
              "      <td>12.653</td>\n",
              "      <td>22.533</td>\n",
              "    </tr>\n",
              "    <tr>\n",
              "      <th>std</th>\n",
              "      <td>8.597</td>\n",
              "      <td>23.322</td>\n",
              "      <td>6.860</td>\n",
              "      <td>0.254</td>\n",
              "      <td>0.116</td>\n",
              "      <td>0.703</td>\n",
              "      <td>28.149</td>\n",
              "      <td>2.106</td>\n",
              "      <td>8.707</td>\n",
              "      <td>168.537</td>\n",
              "      <td>2.165</td>\n",
              "      <td>91.295</td>\n",
              "      <td>7.141</td>\n",
              "      <td>9.197</td>\n",
              "    </tr>\n",
              "    <tr>\n",
              "      <th>min</th>\n",
              "      <td>0.006</td>\n",
              "      <td>0.000</td>\n",
              "      <td>0.460</td>\n",
              "      <td>0.000</td>\n",
              "      <td>0.385</td>\n",
              "      <td>3.561</td>\n",
              "      <td>2.900</td>\n",
              "      <td>1.130</td>\n",
              "      <td>1.000</td>\n",
              "      <td>187.000</td>\n",
              "      <td>12.600</td>\n",
              "      <td>0.320</td>\n",
              "      <td>1.730</td>\n",
              "      <td>5.000</td>\n",
              "    </tr>\n",
              "    <tr>\n",
              "      <th>25%</th>\n",
              "      <td>0.082</td>\n",
              "      <td>0.000</td>\n",
              "      <td>5.190</td>\n",
              "      <td>0.000</td>\n",
              "      <td>0.449</td>\n",
              "      <td>5.886</td>\n",
              "      <td>45.025</td>\n",
              "      <td>2.100</td>\n",
              "      <td>4.000</td>\n",
              "      <td>279.000</td>\n",
              "      <td>17.400</td>\n",
              "      <td>375.377</td>\n",
              "      <td>6.950</td>\n",
              "      <td>17.025</td>\n",
              "    </tr>\n",
              "    <tr>\n",
              "      <th>50%</th>\n",
              "      <td>0.257</td>\n",
              "      <td>0.000</td>\n",
              "      <td>9.690</td>\n",
              "      <td>0.000</td>\n",
              "      <td>0.538</td>\n",
              "      <td>6.208</td>\n",
              "      <td>77.500</td>\n",
              "      <td>3.207</td>\n",
              "      <td>5.000</td>\n",
              "      <td>330.000</td>\n",
              "      <td>19.050</td>\n",
              "      <td>391.440</td>\n",
              "      <td>11.360</td>\n",
              "      <td>21.200</td>\n",
              "    </tr>\n",
              "    <tr>\n",
              "      <th>75%</th>\n",
              "      <td>3.647</td>\n",
              "      <td>12.500</td>\n",
              "      <td>18.100</td>\n",
              "      <td>0.000</td>\n",
              "      <td>0.624</td>\n",
              "      <td>6.623</td>\n",
              "      <td>94.075</td>\n",
              "      <td>5.188</td>\n",
              "      <td>24.000</td>\n",
              "      <td>666.000</td>\n",
              "      <td>20.200</td>\n",
              "      <td>396.225</td>\n",
              "      <td>16.955</td>\n",
              "      <td>25.000</td>\n",
              "    </tr>\n",
              "    <tr>\n",
              "      <th>max</th>\n",
              "      <td>88.976</td>\n",
              "      <td>100.000</td>\n",
              "      <td>27.740</td>\n",
              "      <td>1.000</td>\n",
              "      <td>0.871</td>\n",
              "      <td>8.780</td>\n",
              "      <td>100.000</td>\n",
              "      <td>12.127</td>\n",
              "      <td>24.000</td>\n",
              "      <td>711.000</td>\n",
              "      <td>22.000</td>\n",
              "      <td>396.900</td>\n",
              "      <td>37.970</td>\n",
              "      <td>50.000</td>\n",
              "    </tr>\n",
              "  </tbody>\n",
              "</table>\n",
              "</div>"
            ],
            "text/plain": [
              "         CRIM      ZN   INDUS    CHAS  ...  PTRATIO       B   LSTAT    MDEV\n",
              "count 506.000 506.000 506.000 506.000  ...  506.000 506.000 506.000 506.000\n",
              "mean    3.594  11.364  11.137   0.069  ...   18.456 356.674  12.653  22.533\n",
              "std     8.597  23.322   6.860   0.254  ...    2.165  91.295   7.141   9.197\n",
              "min     0.006   0.000   0.460   0.000  ...   12.600   0.320   1.730   5.000\n",
              "25%     0.082   0.000   5.190   0.000  ...   17.400 375.377   6.950  17.025\n",
              "50%     0.257   0.000   9.690   0.000  ...   19.050 391.440  11.360  21.200\n",
              "75%     3.647  12.500  18.100   0.000  ...   20.200 396.225  16.955  25.000\n",
              "max    88.976 100.000  27.740   1.000  ...   22.000 396.900  37.970  50.000\n",
              "\n",
              "[8 rows x 14 columns]"
            ]
          },
          "metadata": {},
          "execution_count": 23
        }
      ]
    },
    {
      "cell_type": "code",
      "metadata": {
        "colab": {
          "base_uri": "https://localhost:8080/"
        },
        "id": "ZMjhNJorvFti",
        "outputId": "db27cbd9-adc8-49ad-f564-b9f8eaac5d06"
      },
      "source": [
        "df.info()"
      ],
      "execution_count": 24,
      "outputs": [
        {
          "output_type": "stream",
          "name": "stdout",
          "text": [
            "<class 'pandas.core.frame.DataFrame'>\n",
            "RangeIndex: 506 entries, 0 to 505\n",
            "Data columns (total 14 columns):\n",
            " #   Column   Non-Null Count  Dtype  \n",
            "---  ------   --------------  -----  \n",
            " 0   CRIM     506 non-null    float64\n",
            " 1   ZN       506 non-null    float64\n",
            " 2   INDUS    506 non-null    float64\n",
            " 3   CHAS     506 non-null    float64\n",
            " 4   NOX      506 non-null    float64\n",
            " 5   RM       506 non-null    float64\n",
            " 6   AGE      506 non-null    float64\n",
            " 7   DIS      506 non-null    float64\n",
            " 8   RAD      506 non-null    float64\n",
            " 9   TAX      506 non-null    float64\n",
            " 10  PTRATIO  506 non-null    float64\n",
            " 11  B        506 non-null    float64\n",
            " 12  LSTAT    506 non-null    float64\n",
            " 13  MDEV     506 non-null    float64\n",
            "dtypes: float64(14)\n",
            "memory usage: 55.5 KB\n"
          ]
        }
      ]
    },
    {
      "cell_type": "markdown",
      "metadata": {
        "id": "3JQ2uE-4vOOg"
      },
      "source": [
        "# Correlation Analysis and Feature Selection"
      ]
    },
    {
      "cell_type": "code",
      "metadata": {
        "colab": {
          "base_uri": "https://localhost:8080/",
          "height": 488
        },
        "id": "FdSUzpAvvPWN",
        "outputId": "19c4b301-f77a-4926-db3b-1ab48eea8b23"
      },
      "source": [
        "pd.options.display.float_format = '{:,.3f}'.format #Formatting float column of Dataframe in Pandas\n",
        "df.corr() #generate correlation table"
      ],
      "execution_count": 25,
      "outputs": [
        {
          "output_type": "execute_result",
          "data": {
            "text/html": [
              "<div>\n",
              "<style scoped>\n",
              "    .dataframe tbody tr th:only-of-type {\n",
              "        vertical-align: middle;\n",
              "    }\n",
              "\n",
              "    .dataframe tbody tr th {\n",
              "        vertical-align: top;\n",
              "    }\n",
              "\n",
              "    .dataframe thead th {\n",
              "        text-align: right;\n",
              "    }\n",
              "</style>\n",
              "<table border=\"1\" class=\"dataframe\">\n",
              "  <thead>\n",
              "    <tr style=\"text-align: right;\">\n",
              "      <th></th>\n",
              "      <th>CRIM</th>\n",
              "      <th>ZN</th>\n",
              "      <th>INDUS</th>\n",
              "      <th>CHAS</th>\n",
              "      <th>NOX</th>\n",
              "      <th>RM</th>\n",
              "      <th>AGE</th>\n",
              "      <th>DIS</th>\n",
              "      <th>RAD</th>\n",
              "      <th>TAX</th>\n",
              "      <th>PTRATIO</th>\n",
              "      <th>B</th>\n",
              "      <th>LSTAT</th>\n",
              "      <th>MDEV</th>\n",
              "    </tr>\n",
              "  </thead>\n",
              "  <tbody>\n",
              "    <tr>\n",
              "      <th>CRIM</th>\n",
              "      <td>1.000</td>\n",
              "      <td>-0.199</td>\n",
              "      <td>0.404</td>\n",
              "      <td>-0.055</td>\n",
              "      <td>0.418</td>\n",
              "      <td>-0.220</td>\n",
              "      <td>0.351</td>\n",
              "      <td>-0.378</td>\n",
              "      <td>0.622</td>\n",
              "      <td>0.580</td>\n",
              "      <td>0.288</td>\n",
              "      <td>-0.377</td>\n",
              "      <td>0.452</td>\n",
              "      <td>-0.386</td>\n",
              "    </tr>\n",
              "    <tr>\n",
              "      <th>ZN</th>\n",
              "      <td>-0.199</td>\n",
              "      <td>1.000</td>\n",
              "      <td>-0.534</td>\n",
              "      <td>-0.043</td>\n",
              "      <td>-0.517</td>\n",
              "      <td>0.312</td>\n",
              "      <td>-0.570</td>\n",
              "      <td>0.664</td>\n",
              "      <td>-0.312</td>\n",
              "      <td>-0.315</td>\n",
              "      <td>-0.392</td>\n",
              "      <td>0.176</td>\n",
              "      <td>-0.413</td>\n",
              "      <td>0.360</td>\n",
              "    </tr>\n",
              "    <tr>\n",
              "      <th>INDUS</th>\n",
              "      <td>0.404</td>\n",
              "      <td>-0.534</td>\n",
              "      <td>1.000</td>\n",
              "      <td>0.063</td>\n",
              "      <td>0.764</td>\n",
              "      <td>-0.392</td>\n",
              "      <td>0.645</td>\n",
              "      <td>-0.708</td>\n",
              "      <td>0.595</td>\n",
              "      <td>0.721</td>\n",
              "      <td>0.383</td>\n",
              "      <td>-0.357</td>\n",
              "      <td>0.604</td>\n",
              "      <td>-0.484</td>\n",
              "    </tr>\n",
              "    <tr>\n",
              "      <th>CHAS</th>\n",
              "      <td>-0.055</td>\n",
              "      <td>-0.043</td>\n",
              "      <td>0.063</td>\n",
              "      <td>1.000</td>\n",
              "      <td>0.091</td>\n",
              "      <td>0.091</td>\n",
              "      <td>0.087</td>\n",
              "      <td>-0.099</td>\n",
              "      <td>-0.007</td>\n",
              "      <td>-0.036</td>\n",
              "      <td>-0.122</td>\n",
              "      <td>0.049</td>\n",
              "      <td>-0.054</td>\n",
              "      <td>0.175</td>\n",
              "    </tr>\n",
              "    <tr>\n",
              "      <th>NOX</th>\n",
              "      <td>0.418</td>\n",
              "      <td>-0.517</td>\n",
              "      <td>0.764</td>\n",
              "      <td>0.091</td>\n",
              "      <td>1.000</td>\n",
              "      <td>-0.302</td>\n",
              "      <td>0.731</td>\n",
              "      <td>-0.769</td>\n",
              "      <td>0.611</td>\n",
              "      <td>0.668</td>\n",
              "      <td>0.189</td>\n",
              "      <td>-0.380</td>\n",
              "      <td>0.591</td>\n",
              "      <td>-0.427</td>\n",
              "    </tr>\n",
              "    <tr>\n",
              "      <th>RM</th>\n",
              "      <td>-0.220</td>\n",
              "      <td>0.312</td>\n",
              "      <td>-0.392</td>\n",
              "      <td>0.091</td>\n",
              "      <td>-0.302</td>\n",
              "      <td>1.000</td>\n",
              "      <td>-0.240</td>\n",
              "      <td>0.205</td>\n",
              "      <td>-0.210</td>\n",
              "      <td>-0.292</td>\n",
              "      <td>-0.356</td>\n",
              "      <td>0.128</td>\n",
              "      <td>-0.614</td>\n",
              "      <td>0.695</td>\n",
              "    </tr>\n",
              "    <tr>\n",
              "      <th>AGE</th>\n",
              "      <td>0.351</td>\n",
              "      <td>-0.570</td>\n",
              "      <td>0.645</td>\n",
              "      <td>0.087</td>\n",
              "      <td>0.731</td>\n",
              "      <td>-0.240</td>\n",
              "      <td>1.000</td>\n",
              "      <td>-0.748</td>\n",
              "      <td>0.456</td>\n",
              "      <td>0.506</td>\n",
              "      <td>0.262</td>\n",
              "      <td>-0.274</td>\n",
              "      <td>0.602</td>\n",
              "      <td>-0.377</td>\n",
              "    </tr>\n",
              "    <tr>\n",
              "      <th>DIS</th>\n",
              "      <td>-0.378</td>\n",
              "      <td>0.664</td>\n",
              "      <td>-0.708</td>\n",
              "      <td>-0.099</td>\n",
              "      <td>-0.769</td>\n",
              "      <td>0.205</td>\n",
              "      <td>-0.748</td>\n",
              "      <td>1.000</td>\n",
              "      <td>-0.495</td>\n",
              "      <td>-0.534</td>\n",
              "      <td>-0.232</td>\n",
              "      <td>0.292</td>\n",
              "      <td>-0.497</td>\n",
              "      <td>0.250</td>\n",
              "    </tr>\n",
              "    <tr>\n",
              "      <th>RAD</th>\n",
              "      <td>0.622</td>\n",
              "      <td>-0.312</td>\n",
              "      <td>0.595</td>\n",
              "      <td>-0.007</td>\n",
              "      <td>0.611</td>\n",
              "      <td>-0.210</td>\n",
              "      <td>0.456</td>\n",
              "      <td>-0.495</td>\n",
              "      <td>1.000</td>\n",
              "      <td>0.910</td>\n",
              "      <td>0.465</td>\n",
              "      <td>-0.444</td>\n",
              "      <td>0.489</td>\n",
              "      <td>-0.382</td>\n",
              "    </tr>\n",
              "    <tr>\n",
              "      <th>TAX</th>\n",
              "      <td>0.580</td>\n",
              "      <td>-0.315</td>\n",
              "      <td>0.721</td>\n",
              "      <td>-0.036</td>\n",
              "      <td>0.668</td>\n",
              "      <td>-0.292</td>\n",
              "      <td>0.506</td>\n",
              "      <td>-0.534</td>\n",
              "      <td>0.910</td>\n",
              "      <td>1.000</td>\n",
              "      <td>0.461</td>\n",
              "      <td>-0.442</td>\n",
              "      <td>0.544</td>\n",
              "      <td>-0.469</td>\n",
              "    </tr>\n",
              "    <tr>\n",
              "      <th>PTRATIO</th>\n",
              "      <td>0.288</td>\n",
              "      <td>-0.392</td>\n",
              "      <td>0.383</td>\n",
              "      <td>-0.122</td>\n",
              "      <td>0.189</td>\n",
              "      <td>-0.356</td>\n",
              "      <td>0.262</td>\n",
              "      <td>-0.232</td>\n",
              "      <td>0.465</td>\n",
              "      <td>0.461</td>\n",
              "      <td>1.000</td>\n",
              "      <td>-0.177</td>\n",
              "      <td>0.374</td>\n",
              "      <td>-0.508</td>\n",
              "    </tr>\n",
              "    <tr>\n",
              "      <th>B</th>\n",
              "      <td>-0.377</td>\n",
              "      <td>0.176</td>\n",
              "      <td>-0.357</td>\n",
              "      <td>0.049</td>\n",
              "      <td>-0.380</td>\n",
              "      <td>0.128</td>\n",
              "      <td>-0.274</td>\n",
              "      <td>0.292</td>\n",
              "      <td>-0.444</td>\n",
              "      <td>-0.442</td>\n",
              "      <td>-0.177</td>\n",
              "      <td>1.000</td>\n",
              "      <td>-0.366</td>\n",
              "      <td>0.333</td>\n",
              "    </tr>\n",
              "    <tr>\n",
              "      <th>LSTAT</th>\n",
              "      <td>0.452</td>\n",
              "      <td>-0.413</td>\n",
              "      <td>0.604</td>\n",
              "      <td>-0.054</td>\n",
              "      <td>0.591</td>\n",
              "      <td>-0.614</td>\n",
              "      <td>0.602</td>\n",
              "      <td>-0.497</td>\n",
              "      <td>0.489</td>\n",
              "      <td>0.544</td>\n",
              "      <td>0.374</td>\n",
              "      <td>-0.366</td>\n",
              "      <td>1.000</td>\n",
              "      <td>-0.738</td>\n",
              "    </tr>\n",
              "    <tr>\n",
              "      <th>MDEV</th>\n",
              "      <td>-0.386</td>\n",
              "      <td>0.360</td>\n",
              "      <td>-0.484</td>\n",
              "      <td>0.175</td>\n",
              "      <td>-0.427</td>\n",
              "      <td>0.695</td>\n",
              "      <td>-0.377</td>\n",
              "      <td>0.250</td>\n",
              "      <td>-0.382</td>\n",
              "      <td>-0.469</td>\n",
              "      <td>-0.508</td>\n",
              "      <td>0.333</td>\n",
              "      <td>-0.738</td>\n",
              "      <td>1.000</td>\n",
              "    </tr>\n",
              "  </tbody>\n",
              "</table>\n",
              "</div>"
            ],
            "text/plain": [
              "          CRIM     ZN  INDUS   CHAS    NOX  ...    TAX  PTRATIO      B  LSTAT   MDEV\n",
              "CRIM     1.000 -0.199  0.404 -0.055  0.418  ...  0.580    0.288 -0.377  0.452 -0.386\n",
              "ZN      -0.199  1.000 -0.534 -0.043 -0.517  ... -0.315   -0.392  0.176 -0.413  0.360\n",
              "INDUS    0.404 -0.534  1.000  0.063  0.764  ...  0.721    0.383 -0.357  0.604 -0.484\n",
              "CHAS    -0.055 -0.043  0.063  1.000  0.091  ... -0.036   -0.122  0.049 -0.054  0.175\n",
              "NOX      0.418 -0.517  0.764  0.091  1.000  ...  0.668    0.189 -0.380  0.591 -0.427\n",
              "RM      -0.220  0.312 -0.392  0.091 -0.302  ... -0.292   -0.356  0.128 -0.614  0.695\n",
              "AGE      0.351 -0.570  0.645  0.087  0.731  ...  0.506    0.262 -0.274  0.602 -0.377\n",
              "DIS     -0.378  0.664 -0.708 -0.099 -0.769  ... -0.534   -0.232  0.292 -0.497  0.250\n",
              "RAD      0.622 -0.312  0.595 -0.007  0.611  ...  0.910    0.465 -0.444  0.489 -0.382\n",
              "TAX      0.580 -0.315  0.721 -0.036  0.668  ...  1.000    0.461 -0.442  0.544 -0.469\n",
              "PTRATIO  0.288 -0.392  0.383 -0.122  0.189  ...  0.461    1.000 -0.177  0.374 -0.508\n",
              "B       -0.377  0.176 -0.357  0.049 -0.380  ... -0.442   -0.177  1.000 -0.366  0.333\n",
              "LSTAT    0.452 -0.413  0.604 -0.054  0.591  ...  0.544    0.374 -0.366  1.000 -0.738\n",
              "MDEV    -0.386  0.360 -0.484  0.175 -0.427  ... -0.469   -0.508  0.333 -0.738  1.000\n",
              "\n",
              "[14 rows x 14 columns]"
            ]
          },
          "metadata": {},
          "execution_count": 25
        }
      ]
    },
    {
      "cell_type": "code",
      "metadata": {
        "colab": {
          "base_uri": "https://localhost:8080/"
        },
        "id": "yuNfz7iIvWHv",
        "outputId": "b5329789-1d4c-4c69-efc2-a771c56d0480"
      },
      "source": [
        "# Ranking correlation for easier to see which feature with most high correlation to target MDEV\n",
        "corr_rank = df.corr()\n",
        "corr_rank[\"MDEV\"].sort_values(ascending=False)"
      ],
      "execution_count": 26,
      "outputs": [
        {
          "output_type": "execute_result",
          "data": {
            "text/plain": [
              "MDEV       1.000\n",
              "RM         0.695\n",
              "ZN         0.360\n",
              "B          0.333\n",
              "DIS        0.250\n",
              "CHAS       0.175\n",
              "AGE       -0.377\n",
              "RAD       -0.382\n",
              "CRIM      -0.386\n",
              "NOX       -0.427\n",
              "TAX       -0.469\n",
              "INDUS     -0.484\n",
              "PTRATIO   -0.508\n",
              "LSTAT     -0.738\n",
              "Name: MDEV, dtype: float64"
            ]
          },
          "metadata": {},
          "execution_count": 26
        }
      ]
    },
    {
      "cell_type": "markdown",
      "metadata": {
        "id": "a3FLrWy0vfar"
      },
      "source": [
        "# RANdom SAmple Consensus (RANSAC) Algorithm (Model 1)"
      ]
    },
    {
      "cell_type": "code",
      "metadata": {
        "colab": {
          "base_uri": "https://localhost:8080/"
        },
        "id": "cx6EiQvNvhRG",
        "outputId": "f2382ccf-91e8-49dd-e023-76e9309107fb"
      },
      "source": [
        "\n",
        "\n",
        "# Deal with outliers\n",
        "X = df['RM'].values.reshape(-1,1)\n",
        "y = df['MDEV'].values\n",
        "\n",
        "from sklearn.linear_model import RANSACRegressor\n",
        "ransac = RANSACRegressor()\n",
        "ransac.fit(X, y)"
      ],
      "execution_count": 27,
      "outputs": [
        {
          "output_type": "execute_result",
          "data": {
            "text/plain": [
              "RANSACRegressor(base_estimator=None, is_data_valid=None, is_model_valid=None,\n",
              "                loss='absolute_loss', max_skips=inf, max_trials=100,\n",
              "                min_samples=None, random_state=None, residual_threshold=None,\n",
              "                stop_n_inliers=inf, stop_probability=0.99, stop_score=inf)"
            ]
          },
          "metadata": {},
          "execution_count": 27
        }
      ]
    },
    {
      "cell_type": "code",
      "metadata": {
        "colab": {
          "base_uri": "https://localhost:8080/",
          "height": 502
        },
        "id": "OUv5flg9w47C",
        "outputId": "3f6c460f-5516-4edf-b4c5-b871d549f10a"
      },
      "source": [
        "# Visualize Inliers and Outliers\n",
        "inlier_mask = ransac.inlier_mask_\n",
        "outlier_mask = np.logical_not(inlier_mask)\n",
        "\n",
        "np.arange(3, 10, 1) #range and step of feature RN\n",
        "line_X = np.arange(3, 10, 1)\n",
        "line_y_ransac = ransac.predict(line_X.reshape(-1, 1))\n",
        "\n",
        "# Visualize\n",
        "sns.set(style='darkgrid', context='notebook')\n",
        "plt.figure(figsize=(12,8));\n",
        "plt.scatter(X[inlier_mask], y[inlier_mask], \n",
        "            c='blue', marker='o', label='Inliers')\n",
        "plt.scatter(X[outlier_mask], y[outlier_mask],\n",
        "            c='brown', marker='s', label='Outliers')\n",
        "plt.plot(line_X, line_y_ransac, color='red')\n",
        "plt.xlabel('average number of rooms per dwelling')\n",
        "plt.ylabel(\"Median value of owner-occupied homes in $1000's\")\n",
        "plt.legend(loc='upper left')\n",
        "plt.show()"
      ],
      "execution_count": 28,
      "outputs": [
        {
          "output_type": "display_data",
          "data": {
            "image/png": "[encoded data removed]",
            "text/plain": [
              "<Figure size 864x576 with 1 Axes>"
            ]
          },
          "metadata": {}
        }
      ]
    },
    {
      "cell_type": "code",
      "metadata": {
        "colab": {
          "base_uri": "https://localhost:8080/"
        },
        "id": "GPhC-KOqy2cT",
        "outputId": "c22c1e79-154a-4a3c-e731-8cfa77b5ed00"
      },
      "source": [
        "coef = ransac.estimator_.coef_\n",
        "print(\"Model coefficient :\", coef[0])\n",
        "print(\"Model intercept :\", ransac.estimator_.intercept_)"
      ],
      "execution_count": 31,
      "outputs": [
        {
          "output_type": "stream",
          "name": "stdout",
          "text": [
            "Model coefficient : 9.437503779167775\n",
            "Model intercept : -35.30218817347674\n"
          ]
        }
      ]
    },
    {
      "cell_type": "markdown",
      "metadata": {
        "id": "SKZ9oRSmz82r"
      },
      "source": [
        "# Making Prediction (Model 1)"
      ]
    },
    {
      "cell_type": "code",
      "metadata": {
        "colab": {
          "base_uri": "https://localhost:8080/"
        },
        "id": "44b47SACzvjP",
        "outputId": "f20cf1a8-0cc6-4e4e-f5e1-965ef62094ca"
      },
      "source": [
        "# Test model using user input\n",
        "RM_input = int(input(\"If the number of room is (between 3 to 9): \"))\n",
        "result = ransac.predict(np.array([RM_input]).reshape(1,-1))\n",
        "print(\"The median house value will be :\", result[0])"
      ],
      "execution_count": 33,
      "outputs": [
        {
          "output_type": "stream",
          "name": "stdout",
          "text": [
            "If the number of room is (between 3 to 9): 6\n",
            "The median house value will be : 21.322834501529904\n"
          ]
        }
      ]
    },
    {
      "cell_type": "markdown",
      "metadata": {
        "id": "59xGnD870qrc"
      },
      "source": [
        "# RANdom SAmple Consensus (RANSAC) Algorithm (Model 2)"
      ]
    },
    {
      "cell_type": "code",
      "metadata": {
        "colab": {
          "base_uri": "https://localhost:8080/",
          "height": 539
        },
        "id": "bY50lQnR0tEX",
        "outputId": "2385cb2e-4d89-4a3a-a053-fe8acf0084cf"
      },
      "source": [
        "X = df['LSTAT'].values.reshape(-1,1)\n",
        "y = df['MDEV'].values\n",
        "ransac.fit(X, y)\n",
        "inlier_mask = ransac.inlier_mask_\n",
        "outlier_mask = np.logical_not(inlier_mask)\n",
        "line_X = np.arange(0, 40, 1)\n",
        "line_y_ransac = ransac.predict(line_X.reshape(-1, 1))\n",
        "\n",
        "sns.set(style='darkgrid', context='notebook')\n",
        "plt.figure(figsize=(12,8));\n",
        "plt.scatter(X[inlier_mask], y[inlier_mask], \n",
        "            c='blue', marker='o', label='Inliers')\n",
        "plt.scatter(X[outlier_mask], y[outlier_mask],\n",
        "            c='brown', marker='s', label='Outliers')\n",
        "plt.plot(line_X, line_y_ransac, color='red')\n",
        "plt.xlabel('% lower status of the population')\n",
        "plt.ylabel(\"Median value of owner-occupied homes in $1000's\")\n",
        "plt.legend(loc='upper right')\n",
        "plt.show()\n",
        "\n",
        "coef = ransac.estimator_.coef_\n",
        "print(\"Model coefficient :\", coef[0])\n",
        "print(\"Model intercept :\", ransac.estimator_.intercept_)"
      ],
      "execution_count": 36,
      "outputs": [
        {
          "output_type": "display_data",
          "data": {
            "image/png": "[encoded data removed]",
            "text/plain": [
              "<Figure size 864x576 with 1 Axes>"
            ]
          },
          "metadata": {}
        },
        {
          "output_type": "stream",
          "name": "stdout",
          "text": [
            "Model coefficient : -0.8097467782285808\n",
            "Model intercept : 29.57068581859944\n"
          ]
        }
      ]
    },
    {
      "cell_type": "markdown",
      "metadata": {
        "id": "qsfDx9lA1H2g"
      },
      "source": [
        "# Making Prediction (Model 2)"
      ]
    },
    {
      "cell_type": "code",
      "metadata": {
        "colab": {
          "base_uri": "https://localhost:8080/"
        },
        "id": "9F4wguEQ1Jtw",
        "outputId": "4c808296-28e1-4fd2-a674-fea9dc2a52d9"
      },
      "source": [
        "LSTAT_input = int(input(\"If the the population lower status % (range from 1 to 38): \"))\n",
        "result = ransac.predict(np.array([LSTAT_input]).reshape(1,-1))\n",
        "print(\"The median house value will be :\", result[0])"
      ],
      "execution_count": 39,
      "outputs": [
        {
          "output_type": "stream",
          "name": "stdout",
          "text": [
            "If the the population lower status % (range from 1 to 38): 11\n",
            "The median house value will be : 20.663471258085053\n"
          ]
        }
      ]
    },
    {
      "cell_type": "code",
      "metadata": {
        "id": "XLYC1wa21En5"
      },
      "source": [
        ""
      ],
      "execution_count": null,
      "outputs": []
    }
  ]
}